{
 "cells": [
  {
   "cell_type": "code",
   "execution_count": 1,
   "id": "bcbc5416",
   "metadata": {},
   "outputs": [],
   "source": [
    "import json"
   ]
  },
  {
   "cell_type": "code",
   "execution_count": 2,
   "id": "ad7eef6e",
   "metadata": {},
   "outputs": [],
   "source": [
    "import time"
   ]
  },
  {
   "cell_type": "code",
   "execution_count": 3,
   "id": "6aad3590",
   "metadata": {},
   "outputs": [],
   "source": [
    "from tqdm import tqdm"
   ]
  },
  {
   "cell_type": "code",
   "execution_count": 4,
   "id": "c5c8e4bf",
   "metadata": {},
   "outputs": [],
   "source": [
    "import os"
   ]
  },
  {
   "cell_type": "code",
   "execution_count": null,
   "id": "95b6d1ce",
   "metadata": {},
   "outputs": [],
   "source": []
  },
  {
   "cell_type": "code",
   "execution_count": 5,
   "id": "caff501c",
   "metadata": {},
   "outputs": [],
   "source": [
    "import re\n",
    "import ast"
   ]
  },
  {
   "cell_type": "code",
   "execution_count": 5,
   "id": "d1a8b20b",
   "metadata": {},
   "outputs": [
    {
     "name": "stderr",
     "output_type": "stream",
     "text": [
      "/data/wang/zhenyub/condaenvs/cenv_x86/lib/python3.8/site-packages/spacy/util.py:910: UserWarning: [W095] Model 'en_core_web_sm' (3.4.1) was trained with spaCy v3.4.0 and may not be 100% compatible with the current version (3.7.6). If you see errors or degraded performance, download a newer compatible model or retrain your custom model with the current spaCy version. For more details and available updates, run: python -m spacy validate\n",
      "  warnings.warn(warn_msg)\n"
     ]
    }
   ],
   "source": [
    "import amrlib\n",
    "import spacy\n",
    "amrlib.setup_spacy_extension()\n",
    "nlp = spacy.load('en_core_web_sm')"
   ]
  },
  {
   "cell_type": "code",
   "execution_count": 6,
   "id": "4505ffe1",
   "metadata": {},
   "outputs": [],
   "source": [
    "from openai import OpenAI\n",
    "client = OpenAI(api_key='YOUR_KEY')\n",
    "\n",
    "# Set up YOUR OpenAI API key\n",
    "#OPENAI_API_KEY = \"YOUR_KEY\"\n",
    "# Set MODEL to \"gpt-3.5-turbo\"\n",
    "model = \"gpt-3.5-turbo\"\n",
    "# Set temperature to 0.9, it can be from 0~1, 0 is the most conservative, 1 is the most creative\n",
    "temperature = 0.5\n",
    "# messages = [\n",
    "#     {\"role\": \"system\", \"content\": \"You are a helpful and honest assistant. \\\n",
    "#       Respond concisely and truthfully.\"},\n",
    "#     {\"role\": \"user\", \"content\": \"Explain Einstein's relativity theory in three sentences.\"},\n",
    "# ]\n",
    "\n",
    "# # Send the message to the bot\n",
    "# response_message = client.chat.completions.create(model=model, messages=messages, temperature=temperature)\n",
    "\n",
    "# # Get the response from the bot\n",
    "# response = response_message.choices[0].message.content\n",
    "\n",
    "# print(response)"
   ]
  },
  {
   "cell_type": "code",
   "execution_count": null,
   "id": "064f99e9-7406-4a35-ab11-c29deb9ba506",
   "metadata": {},
   "outputs": [],
   "source": []
  },
  {
   "cell_type": "code",
   "execution_count": 7,
   "id": "2116dd5e",
   "metadata": {},
   "outputs": [],
   "source": [
    "def Answer_Agent_IO(question='', num_seq=1):\n",
    "    message = \\\n",
    "    f\"\"\"Given a question, give out only the direct answer, without any explanations. \\\n",
    "    Here are two examples as guideline: \\\n",
    "    \"Question: John bought 3 cars, each worth $30000. How much did John pay in total for his 3 cars? \\\n",
    "    Answer: ###$9000###. \\\n",
    "    Question: Payton has 9 apples that she is planning to evenly split to 3 of her friends. How many apples would each of her friend get? \\\n",
    "    Answer: ###3###.\" \\\n",
    "    Give out the final answer in numerical format. \\\n",
    "    Make sure to include your answer in the format: ###answer###. \\\n",
    "    Question: {question} \\\n",
    "    Answer: \\\n",
    "    \"\"\"\n",
    "    \n",
    "    messages = [{\"role\": \"system\", \"content\": \\\n",
    "                     \"You are a faithful agent that answer mathematical questions accurately.\"},\\\n",
    "                {\"role\": \"user\", \"content\": message}]\n",
    "    \n",
    "    response_message = client.chat.completions.create(model=model, messages=messages, temperature=temperature, n=num_seq)\n",
    "\n",
    "    response = [response_message.choices[i].message.content for i in range(num_seq)]\n",
    "\n",
    "    return response"
   ]
  },
  {
   "cell_type": "code",
   "execution_count": 8,
   "id": "df4d6a62",
   "metadata": {},
   "outputs": [],
   "source": [
    "def Answer_Agent_CoT_2Shot(question='', num_seq=1):\n",
    "    message = \\\n",
    "    f\"\"\"Given a question, give out your chain of thought process and the final answer. \\\n",
    "    Here are two examples as guideline: \\\n",
    "    \"Question: John bought 3 cars, each worth $30000. He also bought 3 bikes, each worth $1000. How much did John pay in total? \\\n",
    "    Thought: John paid 3 * $30000 = $90000 for the cars, and 3 *$ 1000 = $3000 for the bikes. The total amounts to $90000 + $3000 = $93000. \\\n",
    "    Answer: ###$93000###. \\\n",
    "    Question: Each day, Payton brings 9 apples that she would split to 3 of her friends. In 3 days, how many apples would each of her friend get in total? \\\n",
    "    Thought: Each of the 3 friends would get 9 / 3 = 3 apples per day. For 3 days, each of her friend would get 3 * 3 = 9 apples in total. \\\n",
    "    Answer: ###9###.\" \\\n",
    "    Give out the answer in numerical format. \\\n",
    "    Make sure to include your final answer in the format: ###answer###. \\\n",
    "    Question: {question} \\\n",
    "    Answer: \\\n",
    "    \"\"\"\n",
    "    \n",
    "    messages = [{\"role\": \"system\", \"content\": \\\n",
    "                     \"You are a faithful agent that answer mathematical questions accurately.\"},\\\n",
    "                {\"role\": \"user\", \"content\": message}]\n",
    "    \n",
    "    response_message = client.chat.completions.create(model=model, messages=messages, temperature=temperature, n=num_seq)\n",
    "\n",
    "    response = [response_message.choices[i].message.content for i in range(num_seq)]\n",
    "    # response = response_message.choices[0].message.content\n",
    "\n",
    "    return response"
   ]
  },
  {
   "cell_type": "code",
   "execution_count": 9,
   "id": "c537c912",
   "metadata": {},
   "outputs": [],
   "source": [
    "def Answer_Agent_CoT_0Shot(question='', num_seq=1):\n",
    "    message = \\\n",
    "    f\"\"\"Given a question, give out your chain of thought process and the final answer. \\\n",
    "    Make sure to include your final answer to the question in the format: ###your final answer###. \\\n",
    "    Give out the answer in numerical format. \\\n",
    "    Question: {question} \\\n",
    "    Let's think step by step. \\\n",
    "    Answer: \\\n",
    "    \"\"\"\n",
    "    \n",
    "    messages = [{\"role\": \"system\", \"content\": \\\n",
    "                     \"You are a faithful agent that answer mathematical questions accurately.\"},\\\n",
    "                {\"role\": \"user\", \"content\": message}]\n",
    "    \n",
    "    #response_message = client.chat.completions.create(model=model, messages=messages, temperature=temperature)\n",
    "\n",
    "    response_message = client.chat.completions.create(model=model, messages=messages, temperature=temperature, n=num_seq)\n",
    "\n",
    "    response = [response_message.choices[i].message.content for i in range(num_seq)]\n",
    "    # response = response_message.choices[0].message.content\n",
    "\n",
    "    return response"
   ]
  },
  {
   "cell_type": "code",
   "execution_count": null,
   "id": "b9acbe84",
   "metadata": {},
   "outputs": [],
   "source": []
  },
  {
   "cell_type": "code",
   "execution_count": 22,
   "id": "c1c04009",
   "metadata": {},
   "outputs": [
    {
     "data": {
      "text/plain": [
       "123"
      ]
     },
     "execution_count": 22,
     "metadata": {},
     "output_type": "execute_result"
    }
   ],
   "source": [
    "s = '###123###'\n",
    "ast.literal_eval(re.search('###(.*)###', s).group(1))"
   ]
  },
  {
   "cell_type": "code",
   "execution_count": 31,
   "id": "dcc6d5fa",
   "metadata": {},
   "outputs": [
    {
     "data": {
      "text/plain": [
       "'Your final answer: 0.8796'"
      ]
     },
     "execution_count": 31,
     "metadata": {},
     "output_type": "execute_result"
    }
   ],
   "source": [
    "s = \"\"\"Step 1: Find the total number of outcomes when rolling a fair 6-sided die 5 times. Since each roll has 6 possible outcomes, the total number of outcomes is \\\\(6^5\\\\).\\n\\nStep 2: Find the number of ways to get a 6 in at most 2 of the rolls. This can happen in the following ways:\\n- 0 sixes: This can happen in \\\\({5 \\\\choose 0}\\\\) ways.\\n- 1 six: This can happen in \\\\({5 \\\\choose 1}\\\\) ways.\\n- 2 sixes: This can happen in \\\\({5 \\\\choose 2}\\\\) ways.\\n\\nStep 3: Calculate the total number of favorable outcomes by summing the number of ways to get 0, 1, or 2 sixes.\\n\\nStep 4: Calculate the probability by dividing the total number of favorable outcomes by the total number of outcomes.\\n\\n###Your final answer: 0.8796###\"\"\"\n",
    "re.search('###(.*)###', s).group(1)"
   ]
  },
  {
   "cell_type": "code",
   "execution_count": null,
   "id": "2084ca44",
   "metadata": {},
   "outputs": [],
   "source": []
  },
  {
   "cell_type": "code",
   "execution_count": 10,
   "id": "ff37d70f",
   "metadata": {},
   "outputs": [],
   "source": [
    "def testing(prompt='', num_agent=1, rounds=1):\n",
    "    all_answer_gpt = []\n",
    "    ori_answers_io = []\n",
    "    fnames_list = []\n",
    "    rootdir = \"test\"\n",
    "    for subdir, dirs, files in os.walk(rootdir):\n",
    "        print('current directory:', subdir)\n",
    "        file_num = 0\n",
    "        for file in files:\n",
    "            file_num += 1\n",
    "            if file_num > 14:\n",
    "                break\n",
    "            fnames_list.append(os.path.join(subdir, file))\n",
    "            with open(os.path.join(subdir, file), 'r') as fp:\n",
    "                try:\n",
    "                    problem_data = json.load(fp)\n",
    "                except Exception as e:\n",
    "                    print(f\"Error loading JSON from {file}\", e)\n",
    "                    raise e\n",
    "                prob_level = problem_data[\"level\"]\n",
    "                #prob_type = problem_data[\"type\"]\n",
    "                try:\n",
    "                    prob_level = int(prob_level.split(\"Level \")[1])\n",
    "                except:\n",
    "                    prob_level = None\n",
    "                if prompt == 'IO':\n",
    "                    response = Answer_Agent_IO(problem_data['problem'], 1)[0]\n",
    "                elif prompt == 'CoT_2Shot':\n",
    "                    response = Answer_Agent_CoT_2Shot(problem_data['problem'], 1)[0]\n",
    "                elif prompt == 'CoT_0Shot':\n",
    "                    response = Answer_Agent_CoT_0Shot(problem_data['problem'], 1)[0]\n",
    "                # elif prompt == 'CoT_0Shot_Agent':\n",
    "                #     response = Answer_Agent_debate(problem_data['problem'], rounds, num_agent)\n",
    "                ori_answers_io.append(response)\n",
    "                try:\n",
    "                    response_format = re.search('###(.*)###', response).group(1)\n",
    "                    try:\n",
    "                        answer_current = ast.literal_eval(response_format)\n",
    "                    except:\n",
    "                        answer_current = response_format\n",
    "                    all_answer_gpt.append(answer_current)\n",
    "                except:\n",
    "                    try:\n",
    "                        answer_current = ast.literal_eval(response)\n",
    "                        all_answer_gpt.append(answer_current)\n",
    "                    except:\n",
    "                        try:\n",
    "                            response_format = response.split('Answer: ')[1]\n",
    "                            answer_current = ast.literal_eval(response_format)\n",
    "                            all_answer_gpt.append(answer_current)\n",
    "                        except:\n",
    "                            print('no answer provided')\n",
    "                            print(response)\n",
    "                            all_answer_gpt.append('')\n",
    "                            continue\n",
    "    return all_answer_gpt, ori_answers_io"
   ]
  },
  {
   "cell_type": "code",
   "execution_count": 17,
   "id": "108a1b5c",
   "metadata": {},
   "outputs": [
    {
     "name": "stdout",
     "output_type": "stream",
     "text": [
      "current directory: test\n",
      "current directory: test/counting_and_probability\n",
      "current directory: test/intermediate_algebra\n",
      "current directory: test/number_theory\n",
      "current directory: test/precalculus\n",
      "current directory: test/prealgebra\n",
      "current directory: test/geometry\n",
      "current directory: test/algebra\n"
     ]
    }
   ],
   "source": [
    "gpt_io, ori_io = testing('IO')"
   ]
  },
  {
   "cell_type": "code",
   "execution_count": 35,
   "id": "05ad3e53",
   "metadata": {},
   "outputs": [
    {
     "name": "stdout",
     "output_type": "stream",
     "text": [
      "current directory: test\n",
      "current directory: test/counting_and_probability\n",
      "current directory: test/intermediate_algebra\n",
      "no answer provided\n",
      "First, let's consider the formula for the sum of cubes of a sequence, which is $\\sum_{i=1}^{n} a_i^3 = (a_1 + a_2 + \\cdots + a_n)^3 - 3(a_1a_2 + a_1a_3 + \\cdots + a_{n-1}a_n)$.\n",
      "\n",
      "From the given information, we have $\\sum_{i=1}^{n} a_i = 96$, $\\sum_{i=1}^{n} a_i^2 = 144$, and $\\sum_{i=1}^{n} a_i^3 = 216$. Substituting these values into the formula, we get $216 = 96^3 - 3(a_1a_2 + a_1a_3 + \\cdots + a_{n-1}a_n)$.\n",
      "\n",
      "Solving this equation would give us the values of $a_1a_2 + a_1a_3 + \\cdots + a_{n-1}a_n$, which are the pairwise products of the elements in the sequence.\n",
      "\n",
      "To find the sum of all possible values of $n$, we need to determine the factors of 216 that can be expressed as the sum of three positive integers such that their product is the pairwise product of the elements in the sequence.\n",
      "\n",
      "After calculating the factors of 216 and checking the conditions, we find that the possible values of $n$ are 2 and 4.\n",
      "\n",
      "Therefore, the sum of all possible values of $n$ is $2 + 4 = \\boxed{6}$.\n",
      "no answer provided\n",
      "First, we know that if the polynomial $x^6 + ax + b$ is divisible by $x^2 - 2x - 1$, then the remainder when dividing $x^6 + ax + b$ by $x^2 - 2x - 1$ should be zero.\n",
      "\n",
      "To find the remainder, we perform polynomial long division. We divide $x^6 + ax + b$ by $x^2 - 2x - 1$:\n",
      "\n",
      "```\n",
      "                x^4 - 2x^3 - x^2 + 2x + 1\n",
      "          _______________________________\n",
      "x^2 - 2x - 1 | x^6 + 0x^5 + 0x^4 + ax + 0x^3 + 0x^2 + b\n",
      "                - (x^6 - 2x^5 - x^4)\n",
      "                __________________________\n",
      "                          2x^5 + x^4 + ax\n",
      "                          - (2x^5 - 4x^4 - 2x^3)\n",
      "                          ___________________\n",
      "                                    5x^4 + 2x^3 + ax\n",
      "                                    - (5x^4 - 10x^3 - 5x^2)\n",
      "                                    __________________\n",
      "                                              12x^3 + 5x^2 + ax\n",
      "                                              - (12x^3 - 24x^2 - 12x)\n",
      "                                              __________________\n",
      "                                                         29x^2 + 13x + ax\n",
      "                                                         - (29x^2 - 58x - 29)\n",
      "                                                         ___________________\n",
      "                                                                    71x + 29 + ax\n",
      "                                                                    - (71x - 142 - 71)\n",
      "                                                                    _______________\n",
      "                                                                              171 + 100 + ax\n",
      "                                                                              - (171 - 342 - 171)\n",
      "                                                                              ______________\n",
      "                                                                                         442 + ax\n",
      "                                                                                         - (442 - 884 - 442)\n",
      "                                                                                         ___________\n",
      "                                                                                                  884 + ax\n",
      "                                                                                                  - (884 - 1768 - 884)\n",
      "                                                                                                  ___________\n",
      "                                                                                                          1768 + ax\n",
      "                                                                                                          - (1768 - 3536 - 1768)\n",
      "                                                                                                          ____________\n",
      "                                                                                                                   3536 + ax\n",
      "                                                                                                                   - (3536 - 7072 - 3536)\n",
      "                                                                                                                   _____________\n",
      "                                                                                                                            7072 + ax\n",
      "                                                                                                                            - (7072 - 14144 - 7072)\n",
      "                                                                                                                            _______________\n",
      "                                                                                                                                     14144 + ax\n",
      "                                                                                                                                     - (14144 - 28288 - 14144)\n",
      "                                                                                                                                     ________________\n",
      "                                                                                                                                              28288 + ax\n",
      "                                                                                                                                              - (28288 - 56576 - 28288)\n",
      "                                                                                                                                              _________________\n",
      "                                                                                                                                                       56576 + ax\n",
      "                                                                                                                                                       - (56576 - 113152 - 56576)\n",
      "                                                                                                                                                       __________________\n",
      "                                                                                                                                                                113152 + ax\n",
      "                                                                                                                                                                - (113152 - 226304 - 113152)\n",
      "                                                                                                                                                                ___________________\n",
      "                                                                                                                                                                         226304 + ax\n",
      "                                                                                                                                                                         - (226304 - 452608 - 226304)\n",
      "                                                                                                                                                                         ____________________\n",
      "                                                                                                                                                                                  452608 + ax\n",
      "                                                                                                                                                                                  - (452608 - 905216 - 452608)\n",
      "                                                                                                                                                                                  _____________________\n",
      "                                                                                                                                                                                           905216 + ax\n",
      "                                                                                                                                                                                           - (905216 - 1810432 - 905216)\n",
      "                                                                                                                                                                                           ______________________\n",
      "                                                                                                                                                                                                    1810432 + ax\n",
      "                                                                                                                                                                                                    - (1810432 - 3620864 - 1810432)\n",
      "                                                                                                                                                                                                    _______________________\n",
      "                                                                                                                                                                                                             3620864 + ax\n",
      "                                                                                                                                                                                                             - (3620864 - 7241728 - 3620864)\n",
      "                                                                                                                                                                                                             ________________________\n",
      "                                                                                                                                                                                                                      7241728 + ax\n",
      "                                                                                                                                                                                                                      - (7241728 - 14483456 - 7241728)\n",
      "                                                                                                                                                                                                                      _________________________\n",
      "                                                                                                                                                                                                                                  14483456 + ax\n",
      "                                                                                                                                                                                                                                  - (14483456 - 28966912 - 14483456)\n",
      "                                                                                                                                                                                                                                  __________________________\n",
      "                                                                                                                                                                                                                                             28966912 + ax\n",
      "                                                                                                                                                                                                                                             - (28966912 - 57933824 - 28966912)\n",
      "                                                                                                                                                                                                                                             ___________________________\n",
      "                                                                                                                                                                                                                                                      57933824 + ax\n",
      "                                                                                                                                                                                                                                                      - (57933824 - 115867648 - 57933824)\n",
      "                                                                                                                                                                                                                                                      ____________________________\n",
      "                                                                                                                                                                                                                                                               115867648 + ax\n",
      "                                                                                                                                                                                                                                                               - (115867648 - 231735296 - 115867648)\n",
      "                                                                                                                                                                                                                                                               _____________________________\n",
      "                                                                                                                                                                                                                                                                        231735296 + ax\n",
      "                                                                                                                                                                                                                                                                        - (231735296 - 463470592 - 231735296)\n",
      "                                                                                                                                                                                                                                                                        ______________________________\n",
      "                                                                                                                                                                                                                                                                                 463470592 + ax\n",
      "                                                                                                                                                                                                                                                                                 - (463470592 - 926941184 - 463470592)\n",
      "                                                                                                                                                                                                                                                                                 _______________________________\n",
      "                                                                                                                                                                                                                                                                                          926941184 + ax\n",
      "                                                                                                                                                                                                                                                                                          - (926941184 - 1853882368 - 926941184)\n",
      "                                                                                                                                                                                                                                                                                          ________________________________\n",
      "                                                                                                                                                                                                                                                                                                   1853882368 + ax\n",
      "                                                                                                                                                                                                                                                                                                   - (1853882368 - 3707764736 - 1853882368)\n",
      "                                                                                                                                                                                                                                                                                                   _________________________________\n",
      "                                                                                                                                                                                                                                                                                                            3707764736 + ax\n",
      "                                                                                                                                                                                                                                                                                                            - (3707764736 - 7415529472 - 3707764736)\n",
      "                                                                                                                                                                                                                                                                                                            __________________________________\n",
      "                                                                                                                                                                                                                                                                                                                     7415529472 + ax\n",
      "                                                                                                                                                                                                                                                                                                                     - (7415529472 - 14831058944 - 7415529472)\n",
      "                                                                                                                                                                                                                                                                                                                     _________________________________\n",
      "                                                                                                                                                                                                                                                                                                                              14831058944 + ax\n",
      "                                                                                                                                                                                                                                                                                                                              - (14831058944 - 29662117888 - 14831058944)\n",
      "                                                                                                                                                                                                                                                                                                                              __________________________________\n",
      "                                                                                                                                                                                                                                                                                                                                       29662117888 + ax\n",
      "                                                                                                                                                                                                                                                                                                                                       - (29662117888 - 59324235776 - 29662117888)\n",
      "                                                                                                                                                                                                                                                                                                                                       _________________________________\n",
      "                                                                                                                                                                                                                                                                                                                                                59324235776 + ax\n",
      "                                                                                                                                                                                                                                                                                                                                                - (59324235776 - 118648471552 - 59324235776)\n",
      "                                                                                                                                                                                                                                                                                                                                                __________________________________\n",
      "                                                                                                                                                                                                                                                                                                                                                         118648471552 + ax\n",
      "                                                                                                                                                                                                                                                                                                                                                         - (118648471552 - 237296943104 - 118648471552)\n",
      "                                                                                                                                                                                                                                                                                                                                                         _________________________________\n",
      "                                                                                                                                                                                                                                                                                                                                                                  237296943104 + ax\n",
      "                                                                                                                                                                                                                                                                                                                                                                  - (237296943104 - 474593886208 - 237296943104)\n",
      "                                                                                                                                                                                                                                                                                                                                                                  __________________________________\n",
      "                                                                                                                                                                                                                                                                                                                                                                           474593886208 + ax\n",
      "                                                                                                                                                                                                                                                                                                                                                                           - (474593886208 - 949187772416 - 474593886208)\n",
      "                                                                                                                                                                                                                                                                                                                                                                           _________________________________\n",
      "                                                                                                                                                                                                                                                                                                                                                                                    949187772416 + ax\n",
      "                                                                                                                                                                                                                                                                                                                                                                                    - (949187772416 - 1898375544832 - 949187772416)\n",
      "                                                                                                                                                                                                                                                                                                                                                                                    __________________________________\n",
      "                                                                                                                                                                                                                                                                                                                                                                                             1898375544832 + ax\n",
      "                                                                                                                                                                                                                                                                                                                                                                                             - (1898375544832 - 3796751089664 - 1898375544832)\n",
      "                                                                                                                                                                                                                                                                                                                                                                                             _________________________________\n",
      "                                                                                                                                                                                                                                                                                                                                                                                                      3796751089664 + ax\n",
      "                                                                                                                                                                                                                                                                                                                                                                                                      - (3796751089664 - 7593502179328 - 3796751089664)\n",
      "                                                                                                                                                                                                                                                                                                                                                                                                      __________________________________\n",
      "                                                                                                                                                                                                                                                                                                                                                                                                               7593502179328 + ax\n",
      "                                                                                                                                                                                                                                                                                                                                                                                                               - (7593502179328 - 15187004358656 - 7593502179328)\n",
      "                                                                                                                                                                                                                                                                                                                                                                                                               _________________________________\n",
      "                                                                                                                                                                                                                                                                                                                                                                                                                        15187004358656 + ax\n",
      "                                                                                                                                                                                                                                                                                                                                                                                                                        - (15187004358656 - 30374008717312 - 15187004358656)\n",
      "                                                                                                                                                                                                                                                                                                                                                                                                                        __________________________________\n",
      "                                                                                                                                                                                                                                                                                                                                                                                                                                 30374008717312 + ax\n",
      "                                                                                                                                                                                                                                                                                                                                                                                                                                 - (30374008717312 - 60748017434624 - 30374008717312)\n",
      "                                                                                                                                                                                                                                                                                                                                                                                                                                 _________________________________\n",
      "                                                                                                                                                                                                                                                                                                                                                                                                                                          60748017434624 + ax\n",
      "                                                                                                                                                                                                                                                                                                                                                                                                                                          - (60748017434624 - 121496034869248 - 60748017434624)\n",
      "                                                                                                                                                                                                                                                                                                                                                                                                                                          __________________________________\n",
      "                                                                                                                                                                                                                                                                                                                                                                                                                                                   121496034869248 + ax\n",
      "                                                                                                                                                                                                                                                                                                                                                                                                                                                   - (121496034869248 - 242992069738496 - 121496034869248)\n",
      "                                                                                                                                                                                                                                                                                                                                                                                                                                                   _________________________________\n",
      "                                                                                                                                                                                                                                                                                                                                                                                                                                                            242992069738496 + ax\n",
      "                                                                                                                                                                                                                                                                                                                                                                                                                                                            - (242992069738496 - 485984139476992 - 242992069738496)\n",
      "                                                                                                                                                                                                                                                                                                                                                                                                                                                            __________________________________\n",
      "                                                                                                                                                                                                                                                                                                                                                                                                                                                                     485984139476992 + ax\n",
      "                                                                                                                                                                                                                                                                                                                                                                                                                                                                     - (485984139476992 - 971968278953984 - 485984139476992)\n",
      "                                                                                                                                                                                                                                                                                                                                                                                                                                                                     _________________________________\n",
      "                                                                                                                                                                                                                                                                                                                                                                                                                                                                              971968278953984 + ax\n",
      "                                                                                                                                                                                                                                                                                                                                                                                                                                                                              - (971968278953984 - 1943936557907968 - 971968278953984)\n",
      "                                                                                                                                                                                                                                                                                                                                                                                                                                                                              __________________________________\n",
      "                                                                                                                                                                                                                                                                                                                                                                                                                                                                                       1943936557907968 + ax\n",
      "                                                                                                                                                                                                                                                                                                                                                                                                                                                                                       - (1943936557907968 - 3887873115815936 - 1943936557907968)\n",
      "                                                                                                                                                                                                                                                                                                                                                                                                                                                                                       _________________________________\n",
      "                                                                                                                                                                                                                                                                                                                                                                                                                                                                                                3887873115815936 + ax\n",
      "                                                                                                                                                                                                                                                                \n",
      "current directory: test/number_theory\n",
      "current directory: test/precalculus\n",
      "no answer provided\n",
      "First, let's find the components of $\\mathbf{v}_0$ after rotating it by $42^\\circ$ counter-clockwise. Let $\\mathbf{v}_0 = \\begin{pmatrix} x \\\\ y \\end{pmatrix}$.\n",
      "\n",
      "Rotating $\\mathbf{v}_0$ by $42^\\circ$ counter-clockwise gives us $\\mathbf{v}_1 = \\begin{pmatrix} x\\cos 42^\\circ - y\\sin 42^\\circ \\\\ x\\sin 42^\\circ + y\\cos 42^\\circ \\end{pmatrix}$.\n",
      "\n",
      "Next, we need to find the reflection of $\\mathbf{v}_1$ over the line with direction vector $\\begin{pmatrix} \\cos 108^\\circ \\\\ \\sin 108^\\circ \\end{pmatrix}$. Let the reflection be $\\mathbf{v}_2 = \\begin{pmatrix} a \\\\ b \\end{pmatrix}$.\n",
      "\n",
      "The formula for reflecting a vector $\\begin{pmatrix} p \\\\ q \\end{pmatrix}$ over a line with direction vector $\\begin{pmatrix} \\cos \\alpha \\\\ \\sin \\alpha \\end{pmatrix}$ is given by:\n",
      "$$\\begin{pmatrix} a \\\\ b \\end{pmatrix} = \\begin{pmatrix} p - 2(p\\cos\\alpha + q\\sin\\alpha)\\cos\\alpha \\\\ q - 2(p\\cos\\alpha + q\\sin\\alpha)\\sin\\alpha \\end{pmatrix}$$\n",
      "\n",
      "Substitute $p = x\\cos 42^\\circ - y\\sin 42^\\circ$, $q = x\\sin 42^\\circ + y\\cos 42^\\circ$, and $\\alpha = 108^\\circ$ into the formula to find $\\mathbf{v}_2$.\n",
      "\n",
      "Now, we need to find the direction vector of the line over which $\\mathbf{v}_0$ is reflected to get $\\mathbf{v}_2$. Let this direction vector be $\\begin{pmatrix} \\cos \\theta \\\\ \\sin \\theta \\end{pmatrix}$.\n",
      "\n",
      "Since $\\mathbf{v}_2$ can be produced by reflecting $\\mathbf{v}_0$ over this line, we can set $\\mathbf{v}_2 = \\begin{pmatrix} a \\\\ b \\end{pmatrix}$ and solve for $\\theta$.\n",
      "\n",
      "After the calculations, we find that $\\theta = \\boxed{66^\\circ}$.\n",
      "current directory: test/prealgebra\n",
      "current directory: test/geometry\n",
      "no answer provided\n",
      "First, let's identify the right triangle in the figure. Triangle $ADC$ is a right triangle because it has a right angle at $D$. \n",
      "\n",
      "We are given that $AC = 13$ units and $DC = 2$ units. To find the length of $BD$, we need to use the Pythagorean theorem in triangle $ADC$.\n",
      "\n",
      "The Pythagorean theorem states that in a right triangle, the square of the length of the hypotenuse is equal to the sum of the squares of the other two sides. In this case, it can be written as:\n",
      "\n",
      "$AC^2 = AD^2 + DC^2$\n",
      "\n",
      "Substitute the given values:\n",
      "\n",
      "$13^2 = AD^2 + 2^2$\n",
      "\n",
      "$169 = AD^2 + 4$\n",
      "\n",
      "$AD^2 = 165$\n",
      "\n",
      "$AD = \\sqrt{165}$\n",
      "\n",
      "Now, to find the length of segment $BD$, we need to consider triangle $ABD$. Since $ABD$ is a right triangle (right angle at $B$), we can use the Pythagorean theorem again:\n",
      "\n",
      "$AB^2 = AD^2 + BD^2$\n",
      "\n",
      "Substitute the values we found earlier:\n",
      "\n",
      "$12^2 = \\sqrt{165}^2 + BD^2$\n",
      "\n",
      "$144 = 165 + BD^2$\n",
      "\n",
      "$BD^2 = 144 - 165$\n",
      "\n",
      "$BD^2 = -21$\n",
      "\n",
      "This doesn't make sense, as length cannot be negative. It seems there was a mistake in our calculations. Let's go back and check our work.\n",
      "current directory: test/algebra\n",
      "no answer provided\n",
      "To find the minimum value of the quadratic expression $a^2 + 6a - 7$, we can use the formula for the vertex of a parabola given by $x = -\\frac{b}{2a}$.\n",
      "\n",
      "In this case, the quadratic expression is in the form $ax^2 + bx + c$, where $a = 1$, $b = 6$, and $c = -7$.\n",
      "\n",
      "The x-coordinate of the vertex is given by $a = -\\frac{b}{2a} = -\\frac{6}{2(1)} = -3$.\n",
      "\n",
      "To find the minimum value, substitute $a = -3$ back into the quadratic expression:\n",
      "\n",
      "$(-3)^2 + 6(-3) - 7 = 9 - 18 - 7 = -16$.\n",
      "\n",
      "Therefore, the minimum value of $a^2 + 6a - 7$ is $\\boxed{-16}$.\n"
     ]
    }
   ],
   "source": [
    "gpt_cot_0s, ori_cot_0s = testing('CoT_0Shot')"
   ]
  },
  {
   "cell_type": "code",
   "execution_count": null,
   "id": "d68872c7",
   "metadata": {},
   "outputs": [],
   "source": []
  },
  {
   "cell_type": "code",
   "execution_count": 11,
   "id": "417c9d44",
   "metadata": {},
   "outputs": [],
   "source": [
    "import sys\n",
    "import re\n",
    "import string\n",
    "from collections import Counter\n",
    "import pickle"
   ]
  },
  {
   "cell_type": "code",
   "execution_count": 12,
   "id": "c5997eb1",
   "metadata": {},
   "outputs": [],
   "source": [
    "def normalize_answer(s):\n",
    "\n",
    "    def remove_articles(text):\n",
    "        return re.sub(r'\\b(a|an|the)\\b', ' ', text)\n",
    "\n",
    "    def white_space_fix(text):\n",
    "        return ' '.join(text.split())\n",
    "\n",
    "    def remove_punc(text):\n",
    "        exclude = set(string.punctuation)\n",
    "        return ''.join(ch for ch in text if ch not in exclude)\n",
    "\n",
    "    def lower(text):\n",
    "        return text.lower()\n",
    "\n",
    "    return white_space_fix(remove_articles(remove_punc(lower(s))))"
   ]
  },
  {
   "cell_type": "code",
   "execution_count": 38,
   "id": "3981020a",
   "metadata": {},
   "outputs": [],
   "source": [
    "with open('answers_gpt3_io.txt', 'w') as f:\n",
    "    f.write('\\n'.join(str(ans) for ans in gpt_io))"
   ]
  },
  {
   "cell_type": "code",
   "execution_count": 39,
   "id": "baf9e64c",
   "metadata": {},
   "outputs": [],
   "source": [
    "with open('answers_gpt3_io_ori.txt', 'w') as f:\n",
    "    f.write('\\n'.join(str(ans) for ans in ori_io))"
   ]
  },
  {
   "cell_type": "code",
   "execution_count": 40,
   "id": "474326e8",
   "metadata": {},
   "outputs": [],
   "source": [
    "with open('answers_gpt3_cot_0Shot_ori.txt', 'w') as f:\n",
    "    f.write('\\n'.join(str(ans) for ans in ori_cot_0s))"
   ]
  },
  {
   "cell_type": "code",
   "execution_count": 41,
   "id": "b0249c0b",
   "metadata": {},
   "outputs": [],
   "source": [
    "with open('answers_gpt3_cot_0Shot.txt', 'w') as f:\n",
    "    f.write('\\n'.join(str(ans) for ans in gpt_cot_0s))"
   ]
  },
  {
   "cell_type": "code",
   "execution_count": 75,
   "id": "870c6062",
   "metadata": {},
   "outputs": [],
   "source": [
    "with open('answers_gpt3_cot_2Shot.txt', 'w') as f:\n",
    "    f.write('\\n'.join(str(ans) for ans in all_answer_lm3_text_cot))"
   ]
  },
  {
   "cell_type": "code",
   "execution_count": 43,
   "id": "72edb3d9",
   "metadata": {},
   "outputs": [],
   "source": [
    "with open('answers_golden.txt', 'w') as f:\n",
    "    f.write('\\n'.join(s['answer'].split('#### ')[1] for s in split[0:100]))"
   ]
  },
  {
   "cell_type": "code",
   "execution_count": null,
   "id": "37d825c4",
   "metadata": {},
   "outputs": [],
   "source": []
  },
  {
   "cell_type": "code",
   "execution_count": 37,
   "id": "fc6ceba4",
   "metadata": {},
   "outputs": [],
   "source": [
    "def remove_boxed(s):\n",
    "    left = \"\\\\boxed{\"\n",
    "    try:\n",
    "        assert s[:len(left)] == left\n",
    "        assert s[-1] == \"}\"\n",
    "        return s[len(left):-1]\n",
    "    except:\n",
    "        return None"
   ]
  },
  {
   "cell_type": "code",
   "execution_count": 13,
   "id": "6e54922d",
   "metadata": {},
   "outputs": [],
   "source": [
    "def last_boxed_only_string(string):\n",
    "    idx = string.rfind(\"\\\\boxed\")\n",
    "    if idx < 0:\n",
    "        idx = string.rfind(\"\\\\fbox\")\n",
    "        if idx < 0:\n",
    "            return None\n",
    "\n",
    "    i = idx\n",
    "    right_brace_idx = None\n",
    "    num_left_braces_open = 0\n",
    "    while i < len(string):\n",
    "        if string[i] == \"{\":\n",
    "            num_left_braces_open += 1\n",
    "        if string[i] == \"}\":\n",
    "            num_left_braces_open -= 1\n",
    "            if num_left_braces_open == 0:\n",
    "                right_brace_idx = i\n",
    "                break\n",
    "        i += 1\n",
    "    \n",
    "    if right_brace_idx == None:\n",
    "        retval = None\n",
    "    else:\n",
    "        retval = string[idx:right_brace_idx + 1]\n",
    "    \n",
    "    return retval\n"
   ]
  },
  {
   "cell_type": "code",
   "execution_count": 14,
   "id": "72db4bea",
   "metadata": {},
   "outputs": [],
   "source": [
    "ANS_RE = re.compile(r\"(\\-?[0-9\\.\\,]+)\")\n",
    "INVALID_ANS = \"[invalid]\"\n",
    "\n",
    "def extract_answer(completion):\n",
    "    match = ANS_RE.search(completion)\n",
    "    if match:\n",
    "        match_str = match.group(1).strip()\n",
    "        match_str = match_str.replace(\",\", \"\")\n",
    "        if len(match_str) == 0:\n",
    "            return INVALID_ANS\n",
    "        if match_str[-1] == '.':\n",
    "            match_str = match_str[:-1]\n",
    "        if len(match_str) == 0:\n",
    "            return INVALID_ANS\n",
    "        return match_str\n",
    "    else:\n",
    "        return INVALID_ANS\n",
    "def is_correct(model_completion, gt_example):\n",
    "    gt_answer = extract_answer(gt_example)\n",
    "    assert gt_answer != INVALID_ANS\n",
    "    model_answer = extract_answer(model_completion)\n",
    "    if model_answer == INVALID_ANS:\n",
    "        return False\n",
    "    return int(float(model_answer)) == int(float(gt_answer))"
   ]
  },
  {
   "cell_type": "code",
   "execution_count": 35,
   "id": "afda6d86",
   "metadata": {},
   "outputs": [],
   "source": [
    "def _fix_fracs(string):\n",
    "    substrs = string.split(\"\\\\frac\")\n",
    "    new_str = substrs[0]\n",
    "    if len(substrs) > 1:\n",
    "        substrs = substrs[1:]\n",
    "        for substr in substrs:\n",
    "            new_str += \"\\\\frac\"\n",
    "            if substr[0] == \"{\":\n",
    "                new_str += substr\n",
    "            else:\n",
    "                try:\n",
    "                    assert len(substr) >= 2\n",
    "                except:\n",
    "                    return string\n",
    "                a = substr[0]\n",
    "                b = substr[1]\n",
    "                if b != \"{\":\n",
    "                    if len(substr) > 2:\n",
    "                        post_substr = substr[2:]\n",
    "                        new_str += \"{\" + a + \"}{\" + b + \"}\" + post_substr\n",
    "                    else:\n",
    "                        new_str += \"{\" + a + \"}{\" + b + \"}\"\n",
    "                else:\n",
    "                    if len(substr) > 2:\n",
    "                        post_substr = substr[2:]\n",
    "                        new_str += \"{\" + a + \"}\" + b + post_substr\n",
    "                    else:\n",
    "                        new_str += \"{\" + a + \"}\" + b\n",
    "    string = new_str\n",
    "    return string\n",
    "\n",
    "def _fix_a_slash_b(string):\n",
    "    if len(string.split(\"/\")) != 2:\n",
    "        return string\n",
    "    a = string.split(\"/\")[0]\n",
    "    b = string.split(\"/\")[1]\n",
    "    try:\n",
    "        a = int(a)\n",
    "        b = int(b)\n",
    "        assert string == \"{}/{}\".format(a, b)\n",
    "        new_string = \"\\\\frac{\" + str(a) + \"}{\" + str(b) + \"}\"\n",
    "        return new_string\n",
    "    except:\n",
    "        return string\n",
    "\n",
    "def _remove_right_units(string):\n",
    "    # \"\\\\text{ \" only ever occurs (at least in the val set) when describing units\n",
    "    if \"\\\\text{ \" in string:\n",
    "        splits = string.split(\"\\\\text{ \")\n",
    "        assert len(splits) == 2\n",
    "        return splits[0]\n",
    "    else:\n",
    "        return string\n",
    "\n",
    "def _fix_sqrt(string):\n",
    "    if \"\\\\sqrt\" not in string:\n",
    "        return string\n",
    "    splits = string.split(\"\\\\sqrt\")\n",
    "    new_string = splits[0] \n",
    "    for split in splits[1:]:\n",
    "        if split[0] != \"{\":\n",
    "            a = split[0]\n",
    "            new_substr = \"\\\\sqrt{\" + a + \"}\" + split[1:]\n",
    "        else:\n",
    "            new_substr = \"\\\\sqrt\" + split\n",
    "        new_string += new_substr\n",
    "    return new_string\n",
    "\n",
    "def _strip_string(string):\n",
    "    # linebreaks  \n",
    "    string = string.replace(\"\\n\", \"\")\n",
    "    #print(string)\n",
    "\n",
    "    # remove inverse spaces\n",
    "    string = string.replace(\"\\\\!\", \"\")\n",
    "    #print(string)\n",
    "\n",
    "    # replace \\\\ with \\\n",
    "    string = string.replace(\"\\\\\\\\\", \"\\\\\")\n",
    "    #print(string)\n",
    "\n",
    "    # replace tfrac and dfrac with frac\n",
    "    string = string.replace(\"tfrac\", \"frac\")\n",
    "    string = string.replace(\"dfrac\", \"frac\")\n",
    "    #print(string)\n",
    "\n",
    "    # remove \\left and \\right\n",
    "    string = string.replace(\"\\\\left\", \"\")\n",
    "    string = string.replace(\"\\\\right\", \"\")\n",
    "    #print(string)\n",
    "    \n",
    "    # Remove circ (degrees)\n",
    "    string = string.replace(\"^{\\\\circ}\", \"\")\n",
    "    string = string.replace(\"^\\\\circ\", \"\")\n",
    "\n",
    "    # remove dollar signs\n",
    "    string = string.replace(\"\\\\$\", \"\")\n",
    "    string = string.replace(\"$\", \"\")\n",
    "    \n",
    "    # remove units (on the right)\n",
    "    string = _remove_right_units(string)\n",
    "\n",
    "    # remove percentage\n",
    "    string = string.replace(\"\\\\%\", \"\")\n",
    "    string = string.replace(\"\\%\", \"\")\n",
    "\n",
    "    # \" 0.\" equivalent to \" .\" and \"{0.\" equivalent to \"{.\" Alternatively, add \"0\" if \".\" is the start of the string\n",
    "    string = string.replace(\" .\", \" 0.\")\n",
    "    string = string.replace(\"{.\", \"{0.\")\n",
    "    # if empty, return empty string\n",
    "    if len(string) == 0:\n",
    "        return string\n",
    "    if string[0] == \".\":\n",
    "        string = \"0\" + string\n",
    "\n",
    "    # to consider: get rid of e.g. \"k = \" or \"q = \" at beginning\n",
    "    if len(string.split(\"=\")) == 2:\n",
    "        if len(string.split(\"=\")[0]) <= 2:\n",
    "            string = string.split(\"=\")[1]\n",
    "\n",
    "    # fix sqrt3 --> sqrt{3}\n",
    "    string = _fix_sqrt(string)\n",
    "\n",
    "    # remove spaces\n",
    "    string = string.replace(\" \", \"\")\n",
    "\n",
    "    # \\frac1b or \\frac12 --> \\frac{1}{b} and \\frac{1}{2}, etc. Even works with \\frac1{72} (but not \\frac{72}1). Also does a/b --> \\\\frac{a}{b}\n",
    "    string = _fix_fracs(string)\n",
    "\n",
    "    # manually change 0.5 --> \\frac{1}{2}\n",
    "    if string == \"0.5\":\n",
    "        string = \"\\\\frac{1}{2}\"\n",
    "\n",
    "    # NOTE: X/Y changed to \\frac{X}{Y} in dataset, but in simple cases fix in case the model output is X/Y\n",
    "    string = _fix_a_slash_b(string)\n",
    "\n",
    "    return string\n",
    "\n",
    "def is_equiv(str1, str2, verbose=False):\n",
    "    if str1 is None and str2 is None:\n",
    "        print(\"WARNING: Both None\")\n",
    "        return True\n",
    "    if str1 is None or str2 is None:\n",
    "        return False\n",
    "\n",
    "    try:\n",
    "        ss1 = _strip_string(str1)\n",
    "        ss2 = _strip_string(str2)\n",
    "        if ss2.isdigit():\n",
    "            try:\n",
    "                to_return = is_correct(ss1, ss2)\n",
    "                return to_return\n",
    "            except:\n",
    "                print('not a number')\n",
    "        if verbose:\n",
    "            print(ss1, ss2)\n",
    "        return ss1 == ss2\n",
    "    except:\n",
    "        return str1 == str2"
   ]
  },
  {
   "cell_type": "code",
   "execution_count": 59,
   "id": "c831cbf0",
   "metadata": {},
   "outputs": [
    {
     "name": "stdout",
     "output_type": "stream",
     "text": [
      "current directory: test\n",
      "current directory: test/counting_and_probability\n",
      "current directory: test/intermediate_algebra\n",
      "current directory: test/number_theory\n",
      "current directory: test/precalculus\n",
      "current directory: test/prealgebra\n",
      "current directory: test/geometry\n",
      "current directory: test/algebra\n"
     ]
    }
   ],
   "source": [
    "rootdir = \"test\"\n",
    "answer_list = []\n",
    "question_list = []\n",
    "for subdir, dirs, files in os.walk(rootdir):\n",
    "    print('current directory:', subdir)\n",
    "    file_num = 0\n",
    "    for file in files:\n",
    "        file_num += 1\n",
    "        if file_num > 50:\n",
    "            break\n",
    "        with open(os.path.join(subdir, file), 'r') as fp:\n",
    "            try:\n",
    "                problem_data = json.load(fp)\n",
    "            except Exception as e:\n",
    "                print(f\"Error loading JSON from {file}\", e)\n",
    "                raise e\n",
    "            prob_level = problem_data[\"level\"]\n",
    "            #prob_type = problem_data[\"type\"]\n",
    "            try:\n",
    "                prob_level = int(prob_level.split(\"Level \")[1])\n",
    "            except:\n",
    "                prob_level = None\n",
    "            answer = remove_boxed(last_boxed_only_string(problem_data[\"solution\"]))\n",
    "            answer_list.append(answer)\n",
    "            question_list.append((problem_data[\"problem\"], file))\n"
   ]
  },
  {
   "cell_type": "code",
   "execution_count": 40,
   "id": "a68085cd",
   "metadata": {},
   "outputs": [],
   "source": [
    "with open('answers_golden_50.txt', 'w') as f:\n",
    "    f.write('\\n'.join(a for a in answer_list))"
   ]
  },
  {
   "cell_type": "code",
   "execution_count": 41,
   "id": "d6e81b58",
   "metadata": {},
   "outputs": [],
   "source": [
    "with open('answers_golden_50.txt', 'r') as file:\n",
    "    golden = file.readlines()"
   ]
  },
  {
   "cell_type": "code",
   "execution_count": 17,
   "id": "6bf87fa0",
   "metadata": {},
   "outputs": [],
   "source": [
    "with open('answers_gpt3_io.txt', 'r') as file:\n",
    "    output_io = file.readlines()\n",
    "\n",
    "with open('answers_gpt3_cot_0Shot.txt', 'r') as file:\n",
    "    output_cot_0Shot = file.readlines()\n",
    "\n",
    "# with open('answers_gpt3_cot_2Shot.txt', 'r') as file:\n",
    "#     output_cot_2Shot = file.readlines()"
   ]
  },
  {
   "cell_type": "code",
   "execution_count": 18,
   "id": "37073565",
   "metadata": {},
   "outputs": [],
   "source": [
    "def evaluation(output, golden):\n",
    "    correct = 0\n",
    "    length = len(golden)\n",
    "    print(length)\n",
    "    list_wrong = []\n",
    "    i = 0\n",
    "\n",
    "    for (o, g) in zip(output, golden):\n",
    "        #print(o, g)\n",
    "        try:\n",
    "            equiv = is_equiv(o, g)\n",
    "            #print(equiv)\n",
    "        except:\n",
    "            equiv = False\n",
    "        if equiv:\n",
    "            correct += 1\n",
    "        else:\n",
    "            list_wrong.append(i)\n",
    "        i += 1\n",
    "    \n",
    "    return correct, correct/length, list_wrong"
   ]
  },
  {
   "cell_type": "code",
   "execution_count": 76,
   "id": "03dbf119",
   "metadata": {},
   "outputs": [
    {
     "name": "stdout",
     "output_type": "stream",
     "text": [
      "98\n"
     ]
    },
    {
     "data": {
      "text/plain": [
       "(10, 0.10204081632653061)"
      ]
     },
     "execution_count": 76,
     "metadata": {},
     "output_type": "execute_result"
    }
   ],
   "source": [
    "c, a, wrong = evaluation(output_io, golden)\n",
    "c, a"
   ]
  },
  {
   "cell_type": "code",
   "execution_count": 129,
   "id": "06dbf29a",
   "metadata": {},
   "outputs": [
    {
     "name": "stdout",
     "output_type": "stream",
     "text": [
      "98\n"
     ]
    },
    {
     "data": {
      "text/plain": [
       "(20, 0.20408163265306123)"
      ]
     },
     "execution_count": 129,
     "metadata": {},
     "output_type": "execute_result"
    }
   ],
   "source": [
    "c, p, l = evaluation(output_cot_0Shot, golden)\n",
    "c, p"
   ]
  },
  {
   "cell_type": "code",
   "execution_count": null,
   "id": "6bfc81e0",
   "metadata": {},
   "outputs": [],
   "source": []
  },
  {
   "cell_type": "code",
   "execution_count": 19,
   "id": "ad673421",
   "metadata": {},
   "outputs": [],
   "source": [
    "def Answer_Agent_debate(ori_question='', rounds=1, num_agents=3):\n",
    "    message_user_prior = \\\n",
    "    f\"\"\"Given a question, give out your chain of thought process and the final answer. \\\n",
    "    Make sure to include your answer in the format: ###your answer###. \\\n",
    "    Give out the answer in numerical format. \\\n",
    "    Question: {ori_question} \\\n",
    "    Let's think step by step. \\\n",
    "    Answer: \\\n",
    "    \"\"\"\n",
    "\n",
    "    message = \\\n",
    "    f\"\"\"Given a question, and some previous reasoning, recheck the answers and give out your explanation. \\\n",
    "    If you think your previous answer is wrong, provide the correct answer and your reasoning for it. \\\n",
    "    If you think your previous answer is correct, explain why it is correct. \\\n",
    "    Make sure to include your final answer in the format: ###answer###. \\\n",
    "    Question: {ori_question} \\\n",
    "    \"\"\"\n",
    "\n",
    "    messages = [{\"role\": \"system\", \"content\": \\\n",
    "                        \"You are a faithful agent that answer mathematical questions accurately.\"}]\n",
    "    \n",
    "    all_responses = {}\n",
    "    for i in range(num_agents):\n",
    "        all_responses[i] = {'user': [], 'assistant': []}\n",
    "    \n",
    "    response_list = Answer_Agent_CoT_0Shot(ori_question, num_agents)\n",
    "    for j in range(len(response_list)):\n",
    "        all_responses[j]['user'].append(message_user_prior)\n",
    "        all_responses[j]['assistant'].append(response_list[j])\n",
    "    \n",
    "    for r in range(rounds):\n",
    "        for i in range(num_agents):\n",
    "            new_messages = messages\n",
    "            #special case for corners r-1\n",
    "            new_messages.append({\"role\": \"user\", \"content\": all_responses[i]['user'][0]})\n",
    "            new_messages.append({\"role\": \"assistant\", \"content\": all_responses[i]['assistant'][0]})\n",
    "            \n",
    "            if r != 0:\n",
    "                new_messages.append({\"role\": \"user\", \"content\": all_responses[i]['user'][r]})\n",
    "                new_messages.append({\"role\": \"assistant\", \"content\": all_responses[i]['assistant'][r]})\n",
    "            \n",
    "            other_responses = response_list[:i] + response_list[i+1:]\n",
    "            message += f'Reasoning from other agents: '\n",
    "            for k in range(len(other_responses)):\n",
    "                message += f'Agent {k+1}: {other_responses[k]}'\n",
    "            message += 'Thought:'\n",
    "            new_messages.append({\"role\": \"user\", \"content\": message})\n",
    "            \n",
    "            response_message = client.chat.completions.create(model=model, messages=new_messages, temperature=temperature)\n",
    "            response = response_message.choices[0].message.content\n",
    "            all_responses[i]['user'].append(message)\n",
    "            all_responses[i]['assistant'].append(response)\n",
    "\n",
    "    return all_responses"
   ]
  },
  {
   "cell_type": "code",
   "execution_count": null,
   "id": "769bddb4",
   "metadata": {},
   "outputs": [],
   "source": [
    "result = []\n",
    "for li in l:\n",
    "    result.append(Answer_Agent_debate(split[li], 2, 3))\n",
    "    #too much input to model"
   ]
  },
  {
   "cell_type": "code",
   "execution_count": null,
   "id": "0851a9b0",
   "metadata": {},
   "outputs": [],
   "source": [
    "result"
   ]
  },
  {
   "cell_type": "code",
   "execution_count": 1,
   "id": "501e67b9",
   "metadata": {},
   "outputs": [
    {
     "ename": "SyntaxError",
     "evalue": "invalid syntax (663562552.py, line 1)",
     "output_type": "error",
     "traceback": [
      "\u001b[0;36m  Cell \u001b[0;32mIn[1], line 1\u001b[0;36m\u001b[0m\n\u001b[0;31m    central pool\u001b[0m\n\u001b[0m            ^\u001b[0m\n\u001b[0;31mSyntaxError\u001b[0m\u001b[0;31m:\u001b[0m invalid syntax\n"
     ]
    }
   ],
   "source": [
    "central pool\n",
    "whether 3 agents agree with the pool"
   ]
  },
  {
   "cell_type": "code",
   "execution_count": 20,
   "id": "7be8e62d",
   "metadata": {},
   "outputs": [],
   "source": [
    "def Answer_Agent_debate(ori_question='', rounds=1, num_agents=3):\n",
    "    message_user_prior = \\\n",
    "    f\"\"\"Given a question, give out your chain of thought process and the final answer. \\\n",
    "    Make sure to include your answer in the format: ###your answer###. \\\n",
    "    Give out the answer in numerical format. \\\n",
    "    Question: {ori_question} \\\n",
    "    Let's think step by step. \\\n",
    "    Answer: \\\n",
    "    \"\"\"\n",
    "\n",
    "    message = \\\n",
    "    f\"\"\"Given some potential answers given by other agents: \\\n",
    "    if you think your previous answer is wrong, and one of the potential answers is correct, \\\n",
    "    provide the correct answer and your reasoning for it; \\\n",
    "    if you think your previous answer is correct, explain why it is correct. \\\n",
    "    Make sure to include your final answer in the format: ###answer###. \\\n",
    "    \"\"\"\n",
    "    #    Question: {ori_question} \\\n",
    "\n",
    "    messages = [{\"role\": \"system\", \"content\": \\\n",
    "                        \"You are a faithful agent that answer mathematical questions accurately.\"}]\n",
    "    \n",
    "    all_responses = {}\n",
    "    for i in range(num_agents):\n",
    "        all_responses[i] = {'user': [], 'assistant': []}\n",
    "    response_pool = set()\n",
    "    \n",
    "    response_list = Answer_Agent_CoT_0Shot(ori_question, num_agents)\n",
    "    for j in range(len(response_list)):\n",
    "        all_responses[j]['user'].append(message_user_prior)\n",
    "        try:\n",
    "            response_format = re.search('###(.*)###', response_list[j]).group(1)\n",
    "            all_responses[j]['assistant'].append(response_format)\n",
    "            extracted = extract_answer(response_format)\n",
    "            if extracted != INVALID_ANS:\n",
    "                response_pool.add(extracted)\n",
    "            else:\n",
    "                response_pool.add(response_format)\n",
    "        except:\n",
    "            response_format = response_list[j]\n",
    "            all_responses[j]['assistant'].append('no answer')\n",
    "    \n",
    "    for r in range(rounds):\n",
    "        for i in range(num_agents):\n",
    "            new_messages = messages\n",
    "            new_message = message\n",
    "\n",
    "            new_messages.append({\"role\": \"user\", \"content\": all_responses[i]['user'][0]})\n",
    "            new_messages.append({\"role\": \"assistant\", \"content\": all_responses[i]['assistant'][0]})\n",
    "            \n",
    "            if r != 0:\n",
    "                new_messages.append({\"role\": \"user\", \"content\": all_responses[i]['user'][r]})\n",
    "                new_messages.append({\"role\": \"assistant\", \"content\": all_responses[i]['assistant'][r]})\n",
    "\n",
    "            potential_answers = list(response_pool)\n",
    "            new_message += f'Potential answers: '\n",
    "            num_ans = 1\n",
    "            for pa in potential_answers:\n",
    "                new_message += f'{num_ans}:{pa};'\n",
    "                num_ans += 1\n",
    "            new_messages.append({\"role\": \"user\", \"content\": new_message})\n",
    "            \n",
    "            # other_responses = response_list[:i] + response_list[i+1:]\n",
    "            # message += f'Reasoning from other agents: '\n",
    "            # for k in range(len(other_responses)):\n",
    "            #     message += f'Agent {k+1}: {other_responses[k]}'\n",
    "            # message += 'Thought:'\n",
    "            # new_messages.append({\"role\": \"user\", \"content\": message})\n",
    "            \n",
    "            response_message = client.chat.completions.create(model=model, messages=new_messages, temperature=temperature)\n",
    "            response = response_message.choices[0].message.content\n",
    "            all_responses[i]['user'].append(new_message)\n",
    "            all_responses[i]['assistant'].append(response)\n",
    "\n",
    "    #put all answers in a pool, and then do majority vote\n",
    "    all_responses_pool = []\n",
    "    for i in range(num_agents):\n",
    "        answer_i = all_responses[i]['assistant'][-1]\n",
    "        all_responses_pool.append(answer_i)\n",
    "        # try:\n",
    "        #     response_format = re.search('###(.*)###', answer_i).group(1)\n",
    "        #     extracted = extract_answer(response_format)\n",
    "        #     if extracted != INVALID_ANS:\n",
    "        #         all_responses_pool.append(extracted)\n",
    "        # except:\n",
    "        #     continue\n",
    "\n",
    "    #return all_responses, max(set(all_responses_pool), key=all_responses_pool.count)\n",
    "    return all_responses, all_responses_pool"
   ]
  },
  {
   "cell_type": "code",
   "execution_count": 22,
   "id": "126b4607",
   "metadata": {},
   "outputs": [],
   "source": [
    "rootdir = \"test\""
   ]
  },
  {
   "cell_type": "code",
   "execution_count": null,
   "id": "67f4f6be",
   "metadata": {},
   "outputs": [],
   "source": [
    "for subdir, dirs, files in os.walk(rootdir):\n",
    "    print('current directory:', subdir)\n",
    "    file_num = 0\n",
    "    for file in files:\n",
    "        file_num += 1\n",
    "        if file_num > 1:\n",
    "            break\n",
    "        with open(os.path.join(subdir, file), 'r') as fp:\n",
    "            try:\n",
    "                problem_data = json.load(fp)\n",
    "            except Exception as e:\n",
    "                print(f\"Error loading JSON from {file}\", e)\n",
    "                raise e\n",
    "            prob_level = problem_data[\"level\"]\n",
    "            #prob_type = problem_data[\"type\"]\n",
    "            try:\n",
    "                prob_level = int(prob_level.split(\"Level \")[1])\n",
    "            except:\n",
    "                prob_level = None\n",
    "            response, ans = Answer_Agent_debate(problem_data['problem'], 2, 3)\n",
    "            print(response, ans)"
   ]
  },
  {
   "cell_type": "code",
   "execution_count": 31,
   "id": "9cc76210",
   "metadata": {},
   "outputs": [
    {
     "name": "stdout",
     "output_type": "stream",
     "text": [
      "current directory: test\n",
      "current directory: test/counting_and_probability\n",
      "current directory: test/intermediate_algebra\n",
      "current directory: test/number_theory\n",
      "current directory: test/precalculus\n",
      "current directory: test/prealgebra\n",
      "current directory: test/geometry\n",
      "current directory: test/algebra\n"
     ]
    }
   ],
   "source": [
    "all_answer_gpt3_text_cot_0s_agent3 = []\n",
    "ori_reasoning_cot_0s = []\n",
    "all_counts = -1\n",
    "for subdir, dirs, files in os.walk(rootdir):\n",
    "    print('current directory:', subdir)\n",
    "    file_num = 0\n",
    "    for file in files:\n",
    "        file_num += 1\n",
    "        if file_num > 50:\n",
    "            break\n",
    "        with open(os.path.join(subdir, file), 'r') as fp:\n",
    "            try:\n",
    "                problem_data = json.load(fp)\n",
    "            except Exception as e:\n",
    "                print(f\"Error loading JSON from {file}\", e)\n",
    "                raise e\n",
    "            prob_level = problem_data[\"level\"]\n",
    "            #prob_type = problem_data[\"type\"]\n",
    "            try:\n",
    "                prob_level = int(prob_level.split(\"Level \")[1])\n",
    "            except:\n",
    "                prob_level = None\n",
    "            response, ans = Answer_Agent_debate(problem_data['problem'], 2, 3)\n",
    "            all_answer_gpt3_text_cot_0s_agent3.append(ans)\n",
    "            ori_reasoning_cot_0s.append(response)"
   ]
  },
  {
   "cell_type": "code",
   "execution_count": 32,
   "id": "7b9b4844",
   "metadata": {},
   "outputs": [],
   "source": [
    "new_ans = []\n",
    "for aa in all_answer_gpt3_text_cot_0s_agent3:\n",
    "    try:\n",
    "        ans = re.search('###(.*)###', aa[0]).group(1)\n",
    "        ans = _strip_string(ans)\n",
    "        if ans.isdigit():\n",
    "            ans = extract_answer(ans)\n",
    "        new_ans.append(ans)\n",
    "    except:\n",
    "        try:\n",
    "            ans = re.search('###(.*)###', aa[1]).group(1)\n",
    "            ans = _strip_string(ans)\n",
    "            if ans.isdigit():\n",
    "                ans = extract_answer(ans)\n",
    "            new_ans.append(ans)\n",
    "        except:\n",
    "            try:\n",
    "                ans = re.search('###(.*)###', aa[2]).group(1)\n",
    "                ans = _strip_string(ans)\n",
    "                if ans.isdigit():\n",
    "                    ans = extract_answer(ans)\n",
    "                new_ans.append(ans)\n",
    "            except:\n",
    "                new_ans.append('')\n"
   ]
  },
  {
   "cell_type": "code",
   "execution_count": 42,
   "id": "8a5803b2",
   "metadata": {},
   "outputs": [
    {
     "name": "stdout",
     "output_type": "stream",
     "text": [
      "350\n"
     ]
    },
    {
     "data": {
      "text/plain": [
       "(106, 0.3028571428571429)"
      ]
     },
     "execution_count": 42,
     "metadata": {},
     "output_type": "execute_result"
    }
   ],
   "source": [
    "c, p, l = evaluation(new_ans, golden)\n",
    "c, p"
   ]
  },
  {
   "cell_type": "code",
   "execution_count": 43,
   "id": "08cec3b9",
   "metadata": {},
   "outputs": [],
   "source": [
    "with open('answers_gpt3_cot_0Shot_3ensemble_50.txt', 'w') as f:\n",
    "    f.write('\\n'.join(str(ans) for ans in new_ans))"
   ]
  },
  {
   "cell_type": "code",
   "execution_count": 107,
   "id": "901b4b08",
   "metadata": {},
   "outputs": [
    {
     "name": "stdout",
     "output_type": "stream",
     "text": [
      "50\n",
      "11 0.22\n",
      "50\n",
      "7 0.14\n",
      "50\n",
      "18 0.36\n",
      "50\n",
      "6 0.12\n",
      "50\n",
      "29 0.58\n",
      "50\n",
      "12 0.24\n",
      "50\n",
      "23 0.46\n"
     ]
    }
   ],
   "source": [
    "gl = []\n",
    "for i in range(7):\n",
    "    c, p, l = evaluation(new_ans[i*50:i*50+50], golden[i*50:i*50+50])\n",
    "    if i == 3:\n",
    "        gl = l\n",
    "    print(c, p)"
   ]
  },
  {
   "cell_type": "code",
   "execution_count": 108,
   "id": "642ddc3d",
   "metadata": {},
   "outputs": [
    {
     "data": {
      "text/plain": [
       "[0,\n",
       " 1,\n",
       " 2,\n",
       " 3,\n",
       " 4,\n",
       " 5,\n",
       " 6,\n",
       " 7,\n",
       " 8,\n",
       " 9,\n",
       " 10,\n",
       " 11,\n",
       " 12,\n",
       " 13,\n",
       " 15,\n",
       " 16,\n",
       " 17,\n",
       " 18,\n",
       " 19,\n",
       " 21,\n",
       " 22,\n",
       " 23,\n",
       " 24,\n",
       " 25,\n",
       " 26,\n",
       " 27,\n",
       " 29,\n",
       " 30,\n",
       " 32,\n",
       " 33,\n",
       " 34,\n",
       " 35,\n",
       " 36,\n",
       " 37,\n",
       " 38,\n",
       " 40,\n",
       " 41,\n",
       " 42,\n",
       " 43,\n",
       " 45,\n",
       " 46,\n",
       " 47,\n",
       " 48,\n",
       " 49]"
      ]
     },
     "execution_count": 108,
     "metadata": {},
     "output_type": "execute_result"
    }
   ],
   "source": [
    "gl"
   ]
  },
  {
   "cell_type": "code",
   "execution_count": 147,
   "id": "7587d858",
   "metadata": {},
   "outputs": [],
   "source": [
    "i = 170"
   ]
  },
  {
   "cell_type": "code",
   "execution_count": 148,
   "id": "b9f261d5",
   "metadata": {},
   "outputs": [
    {
     "data": {
      "text/plain": [
       "('Find the matrix $\\\\mathbf{M}$ that swaps the rows of a matrix.  In other words,\\n\\\\[\\\\mathbf{M} \\\\begin{pmatrix} a & b \\\\\\\\ c & d \\\\end{pmatrix} = \\\\begin{pmatrix} c & d \\\\\\\\ a & b \\\\end{pmatrix}.\\\\]If no such matrix $\\\\mathbf{M}$ exists, then enter the zero matrix.',\n",
       " '945.json')"
      ]
     },
     "execution_count": 148,
     "metadata": {},
     "output_type": "execute_result"
    }
   ],
   "source": [
    "question_list[i]"
   ]
  },
  {
   "cell_type": "code",
   "execution_count": 149,
   "id": "e508a045",
   "metadata": {},
   "outputs": [
    {
     "data": {
      "text/plain": [
       "('\\\\begin{pmatrix}0&1\\\\1&0\\\\end{pmatrix}',\n",
       " '\\\\begin{pmatrix} 0 & 1 \\\\\\\\ 1 & 0 \\\\end{pmatrix}\\n')"
      ]
     },
     "execution_count": 149,
     "metadata": {},
     "output_type": "execute_result"
    }
   ],
   "source": [
    "new_ans[i], golden[i]"
   ]
  },
  {
   "cell_type": "code",
   "execution_count": 150,
   "id": "376322ce",
   "metadata": {},
   "outputs": [
    {
     "data": {
      "text/plain": [
       "['The correct answer is: $\\\\begin{pmatrix} 0 & 1 \\\\\\\\ 1 & 0 \\\\end{pmatrix}$. This matrix correctly swaps the rows of a 2x2 matrix. The potential answer $\\\\begin{pmatrix} a & d \\\\\\\\ c & b \\\\end{pmatrix}$ does not swap the rows, so it is not the correct matrix for this specific task. ###$\\\\begin{pmatrix} 0 & 1 \\\\\\\\ 1 & 0 \\\\end{pmatrix}$###',\n",
       " 'The correct answer among the potential answers is: 2: The final answer is: $\\\\begin{pmatrix} a & d \\\\\\\\ c & b \\\\end{pmatrix}$.\\n\\nTo see why this is the correct answer, we can verify the matrix multiplication:\\n\\n$\\\\begin{pmatrix} a & d \\\\\\\\ c & b \\\\end{pmatrix} \\\\begin{pmatrix} a & b \\\\\\\\ c & d \\\\end{pmatrix} = \\\\begin{pmatrix} a^2 + cd & ab + bd \\\\\\\\ ac + cd & bc + bd \\\\end{pmatrix} = \\\\begin{pmatrix} c & d \\\\\\\\ a & b \\\\end{pmatrix}$\\n\\nThe resulting matrix is indeed $\\\\begin{pmatrix} c & d \\\\\\\\ a & b \\\\end{pmatrix}$, which swaps the rows of the original matrix. Therefore, $\\\\begin{pmatrix} a & d \\\\\\\\ c & b \\\\end{pmatrix}$ is the correct matrix that swaps the rows.',\n",
       " 'The correct answer is: $\\\\begin{pmatrix} a & d \\\\\\\\ c & b \\\\end{pmatrix}$. This matrix swaps the rows of the given 2x2 matrix as required. The potential answer 1:0 is incorrect because it does not swap the rows. Therefore, the correct matrix is $\\\\begin{pmatrix} a & d \\\\\\\\ c & b \\\\end{pmatrix}$. ###$\\\\begin{pmatrix} a & d \\\\\\\\ c & b \\\\end{pmatrix}$###']"
      ]
     },
     "execution_count": 150,
     "metadata": {},
     "output_type": "execute_result"
    }
   ],
   "source": [
    "all_answer_gpt3_text_cot_0s_agent3[i]"
   ]
  },
  {
   "cell_type": "code",
   "execution_count": 119,
   "id": "e6004a95",
   "metadata": {},
   "outputs": [
    {
     "data": {
      "text/plain": [
       "'$\\\\frac{30}{100}$'"
      ]
     },
     "execution_count": 119,
     "metadata": {},
     "output_type": "execute_result"
    }
   ],
   "source": [
    "re.search('###(.*)###', all_answer_gpt3_text_cot_0s_agent3[6][0]).group(1)"
   ]
  },
  {
   "cell_type": "code",
   "execution_count": null,
   "id": "748b261f",
   "metadata": {},
   "outputs": [],
   "source": []
  }
 ],
 "metadata": {
  "kernelspec": {
   "display_name": "Python 3 (ipykernel)",
   "language": "python",
   "name": "python3"
  },
  "language_info": {
   "codemirror_mode": {
    "name": "ipython",
    "version": 3
   },
   "file_extension": ".py",
   "mimetype": "text/x-python",
   "name": "python",
   "nbconvert_exporter": "python",
   "pygments_lexer": "ipython3",
   "version": "3.8.19"
  }
 },
 "nbformat": 4,
 "nbformat_minor": 5
}
